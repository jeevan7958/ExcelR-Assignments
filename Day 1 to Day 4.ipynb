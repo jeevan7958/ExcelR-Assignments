{
 "cells": [
  {
   "cell_type": "markdown",
   "metadata": {},
   "source": [
    "Day 1:\n",
    "Write a program in Jupyter Notebook to declare variables of different data types (integer, float, string, and boolean). Print each variable and its type."
   ]
  },
  {
   "cell_type": "code",
   "execution_count": 1,
   "metadata": {},
   "outputs": [
    {
     "name": "stdout",
     "output_type": "stream",
     "text": [
      "Integer value: 10, Type: <class 'int'>\n",
      "Float value: 20.5, Type: <class 'float'>\n",
      "String value: Hello, World!, Type: <class 'str'>\n",
      "Boolean value: True, Type: <class 'bool'>\n"
     ]
    }
   ],
   "source": [
    "integer_var = 10\n",
    "float_var = 20.5\n",
    "string_var = \"Hello, World!\"\n",
    "boolean_var = True\n",
    "\n",
    "print(f\"Integer value: {integer_var}, Type: {type(integer_var)}\")\n",
    "print(f\"Float value: {float_var}, Type: {type(float_var)}\")\n",
    "print(f\"String value: {string_var}, Type: {type(string_var)}\")\n",
    "print(f\"Boolean value: {boolean_var}, Type: {type(boolean_var)}\")\n"
   ]
  },
  {
   "cell_type": "markdown",
   "metadata": {},
   "source": [
    "Day 2: Create a List, tuple and Dictionary with 5 elements in it and how to access few elements based on the index. Try  with different examples"
   ]
  },
  {
   "cell_type": "code",
   "execution_count": 2,
   "metadata": {},
   "outputs": [
    {
     "name": "stdout",
     "output_type": "stream",
     "text": [
      "List: [10, 20, 30, 40, 50]\n",
      "Element at index 2 in List: 30\n",
      "Element at index -1 in List: 50\n",
      "Element at index 0 in List: 10\n",
      "\n",
      "Tuple: (1.5, 2.5, 3.5, 4.5, 5.5)\n",
      "Element at index 1 in Tuple: 2.5\n",
      "Element at index -2 in Tuple: 4.5\n",
      "Element at index 4 in Tuple: 5.5\n",
      "\n",
      "Dictionary: {'name': 'Alice', 'age': 25, 'city': 'New York', 'job': 'Engineer', 'is_student': False}\n",
      "Value for 'name' key in Dictionary: Alice\n",
      "Value for 'age' key in Dictionary: 25\n",
      "Value for 'city' key in Dictionary: New York\n"
     ]
    }
   ],
   "source": [
    "my_list = [10, 20, 30, 40, 50]\n",
    "print(\"List:\", my_list)\n",
    "print(\"Element at index 2 in List:\", my_list[2])\n",
    "print(\"Element at index -1 in List:\", my_list[-1])\n",
    "print(\"Element at index 0 in List:\", my_list[0])\n",
    "\n",
    "my_tuple = (1.5, 2.5, 3.5, 4.5, 5.5)\n",
    "print(\"\\nTuple:\", my_tuple)\n",
    "print(\"Element at index 1 in Tuple:\", my_tuple[1])\n",
    "print(\"Element at index -2 in Tuple:\", my_tuple[-2])\n",
    "print(\"Element at index 4 in Tuple:\", my_tuple[4])\n",
    "\n",
    "my_dict = {\n",
    "    'name': 'Alice',\n",
    "    'age': 25,\n",
    "    'city': 'New York',\n",
    "    'job': 'Engineer',\n",
    "    'is_student': False\n",
    "}\n",
    "print(\"\\nDictionary:\", my_dict)\n",
    "print(\"Value for 'name' key in Dictionary:\", my_dict['name'])\n",
    "print(\"Value for 'age' key in Dictionary:\", my_dict['age'])\n",
    "print(\"Value for 'city' key in Dictionary:\", my_dict['city'])\n"
   ]
  },
  {
   "cell_type": "markdown",
   "metadata": {},
   "source": [
    "Day 3: Write a Python program that takes a student's marks in three subjects as input.\n",
    "If the average is greater than or equal to 90, print \"Grade: A\".\n",
    "If the average is between 80 and 89, print \"Grade: B\".\n",
    "If the average is between 70 and 79, print \"Grade: C\".\n",
    "Otherwise, print \"Grade: Fail\"."
   ]
  },
  {
   "cell_type": "code",
   "execution_count": 3,
   "metadata": {},
   "outputs": [
    {
     "name": "stdout",
     "output_type": "stream",
     "text": [
      "Grade: Fail\n"
     ]
    }
   ],
   "source": [
    "def calculate_grade(marks1, marks2, marks3):\n",
    "    average = (marks1 + marks2 + marks3) / 3\n",
    "    if average >= 90:\n",
    "        return \"Grade: A\"\n",
    "    elif 80 <= average < 90:\n",
    "        return \"Grade: B\"\n",
    "    elif 70 <= average < 80:\n",
    "        return \"Grade: C\"\n",
    "    else:\n",
    "        return \"Grade: Fail\"\n",
    "\n",
    "marks1 = float(input(\"Enter marks for Subject 1: \"))\n",
    "marks2 = float(input(\"Enter marks for Subject 2: \"))\n",
    "marks3 = float(input(\"Enter marks for Subject 3: \"))\n",
    "\n",
    "grade = calculate_grade(marks1, marks2, marks3)\n",
    "print(grade)\n"
   ]
  },
  {
   "cell_type": "markdown",
   "metadata": {},
   "source": [
    "Day 4: Write a Python program to calculate the sum of all even numbers between 1 and a given positive integer n"
   ]
  },
  {
   "cell_type": "code",
   "execution_count": 4,
   "metadata": {},
   "outputs": [
    {
     "name": "stdout",
     "output_type": "stream",
     "text": [
      "The sum of all even numbers between 1 and 69 is: 1190\n"
     ]
    }
   ],
   "source": [
    "def sum_of_even_numbers(n):\n",
    "    sum_even = 0\n",
    "    for num in range(1, n + 1):\n",
    "        if num % 2 == 0:\n",
    "            sum_even += num\n",
    "    return sum_even\n",
    "\n",
    "n = int(input(\"Enter a positive integer: \"))\n",
    "result = sum_of_even_numbers(n)\n",
    "print(\"The sum of all even numbers between 1 and\", n, \"is:\", result)"
   ]
  }
 ],
 "metadata": {
  "kernelspec": {
   "display_name": "Python 3",
   "language": "python",
   "name": "python3"
  },
  "language_info": {
   "codemirror_mode": {
    "name": "ipython",
    "version": 3
   },
   "file_extension": ".py",
   "mimetype": "text/x-python",
   "name": "python",
   "nbconvert_exporter": "python",
   "pygments_lexer": "ipython3",
   "version": "3.11.9"
  }
 },
 "nbformat": 4,
 "nbformat_minor": 2
}
